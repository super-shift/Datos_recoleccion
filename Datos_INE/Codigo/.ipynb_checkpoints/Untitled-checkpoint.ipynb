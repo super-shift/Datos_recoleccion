{
 "cells": [
  {
   "cell_type": "code",
   "execution_count": 11,
   "metadata": {},
   "outputs": [],
   "source": [
    "import numpy as np\n",
    "import pandas as pd\n",
    "import os\n",
    "from matplotlib import pyplot as plt"
   ]
  },
  {
   "cell_type": "code",
   "execution_count": 12,
   "metadata": {},
   "outputs": [],
   "source": [
    "dir_path = os.getcwd()"
   ]
  },
  {
   "cell_type": "code",
   "execution_count": 16,
   "metadata": {},
   "outputs": [],
   "source": [
    "Data_2 = pd.read_csv(dir_path[:-6] + 'Data_csv\\\\Data_2.csv')\n",
    "Data_3 = pd.read_csv(dir_path[:-6] + 'Data_csv\\\\Data_3.csv')\n",
    "Data_4 = pd.read_csv(dir_path[:-6] + 'Data_csv\\\\Data_4.csv')"
   ]
  },
  {
   "cell_type": "code",
   "execution_count": null,
   "metadata": {},
   "outputs": [],
   "source": []
  },
  {
   "cell_type": "code",
   "execution_count": null,
   "metadata": {},
   "outputs": [],
   "source": []
  },
  {
   "cell_type": "code",
   "execution_count": 21,
   "metadata": {},
   "outputs": [
    {
     "data": {
      "text/plain": [
       "Index(['Unnamed: 0', 'IdEncuesta', 'IdPersona', 'IdSexo', 'folio_nino',\n",
       "       'IdCuidador', 'FechaInicioF4', 'Region', 'Zona', 'IdSegmento', 'edad',\n",
       "       'fecha_nacimiento', 'des2', 'des2_esp', 'des2_esp_sinCodificar', 'des3',\n",
       "       'des3_esp', 'des3_esp_sinCodificar', 'des4', 'des11_1', 'des11_2',\n",
       "       'des11_3', 'des11_4', 'des11_5', 'des5_1', 'des5_2', 'des5_3', 'des5_4',\n",
       "       'des5_5', 'des6_1', 'des6_2', 'des6_3', 'des6_4', 'des6_5', 'des6_6',\n",
       "       'des6_7', 'des6_8', 'des7_1', 'des7_2', 'des7_3', 'des7_4', 'des7_5',\n",
       "       'des7_6', 'des7_7', 'des8_1', 'des8_2', 'des8_3', 'des8_4', 'des8_5',\n",
       "       'des9_1', 'des9_2', 'des9_3', 'des9_4', 'des9_5', 'des9_6', 'des9_7',\n",
       "       'des9_8', 'des9_9', 'des10', 'des10a', 'SexoCuidador', 'EdadCuidador',\n",
       "       'NEDUCuidador', 'Conglomerado', 'Estrato', 'Fexp_F4p_Corr',\n",
       "       'Edad_nino_meses', 'edad_nino_ano', 'Tramo_edad',\n",
       "       'Fexp_F4p_Corr_MINSAL1_trunc', 'Fexp_F4p_Corr_MINSAL2',\n",
       "       'Fexp_F4p_Corr_MINSAL2_trunc', 'NEDU1_MINSAL_2', 'rezago', 'retraso',\n",
       "       'estado_menor'],\n",
       "      dtype='object')"
      ]
     },
     "execution_count": 21,
     "metadata": {},
     "output_type": "execute_result"
    }
   ],
   "source": [
    "Data_4.columns"
   ]
  },
  {
   "cell_type": "code",
   "execution_count": 22,
   "metadata": {},
   "outputs": [
    {
     "data": {
      "text/plain": [
       "(array([147.,  54.,  87.,  75., 177., 125.,  99.,  99.,  43.,  78.]),\n",
       " array([ 1. ,  2.4,  3.8,  5.2,  6.6,  8. ,  9.4, 10.8, 12.2, 13.6, 15. ]),\n",
       " <a list of 10 Patch objects>)"
      ]
     },
     "execution_count": 22,
     "metadata": {},
     "output_type": "execute_result"
    },
    {
     "data": {
      "image/png": "[encoded data removed]",
      "text/plain": [
       "<Figure size 432x288 with 1 Axes>"
      ]
     },
     "metadata": {
      "needs_background": "light"
     },
     "output_type": "display_data"
    }
   ],
   "source": [
    "N_points = 100000\n",
    "n_bins = 10\n",
    "\n",
    "# Generate a normal distribution, center at x=0 and y=5\n",
    "x = Data_4['IdPersona']\n",
    "y = Data_4['Region']\n",
    "\n",
    "plt.hist(y)"
   ]
  },
  {
   "cell_type": "code",
   "execution_count": null,
   "metadata": {},
   "outputs": [],
   "source": []
  }
 ],
 "metadata": {
  "kernelspec": {
   "display_name": "Python 3",
   "language": "python",
   "name": "python3"
  },
  "language_info": {
   "codemirror_mode": {
    "name": "ipython",
    "version": 3
   },
   "file_extension": ".py",
   "mimetype": "text/x-python",
   "name": "python",
   "nbconvert_exporter": "python",
   "pygments_lexer": "ipython3",
   "version": "3.7.6"
  }
 },
 "nbformat": 4,
 "nbformat_minor": 4
}
